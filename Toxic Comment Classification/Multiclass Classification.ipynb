{
  "cells": [
    {
      "cell_type": "code",
      "execution_count": null,
      "metadata": {
        "id": "Uux0muRPIEBw"
      },
      "outputs": [],
      "source": [
        "import pandas as pd\n",
        "import numpy as np\n",
        "import re\n",
        "import gensim.downloader as api\n",
        "from wordcloud import WordCloud\n",
        "import seaborn as sns"
      ]
    },
    {
      "cell_type": "code",
      "execution_count": null,
      "metadata": {
        "id": "LrutVjIsIEEc"
      },
      "outputs": [],
      "source": [
        "from keras.layers import Dense,Input,Conv1D,GlobalMaxPool1D,Dropout,Embedding,Bidirectional,GRU,MaxPooling1D,LSTM\n",
        "from keras.models import Model\n",
        "from keras.preprocessing import text,sequence\n",
        "from keras.initializers import Constant\n",
        "from sklearn.metrics import accuracy_score,confusion_matrix,f1_score\n",
        "from sklearn.model_selection import train_test_split\n",
        "from sklearn.metrics import roc_auc_score\n",
        "from keras.callbacks import Callback\n",
        "from keras.utils import plot_model\n",
        "import matplotlib.pyplot as plt\n",
        "from keras.metrics import AUC,Precision,Recall"
      ]
    },
    {
      "cell_type": "code",
      "execution_count": null,
      "metadata": {
        "id": "wQj8U8g-IYPM"
      },
      "outputs": [],
      "source": [
        "MAX_SEQUENCE_LENGTH = 200\n",
        "MAX_NUM_WORDS = 25000\n",
        "EMBEDDING_DIM = 300\n",
        "VALIDATION_SPLIT = 0.1"
      ]
    },
    {
      "cell_type": "code",
      "execution_count": null,
      "metadata": {
        "id": "-PuynignIEHY"
      },
      "outputs": [],
      "source": [
        "df_train = pd.read_csv('/new_train.csv')\n",
        "df_test = pd.read_csv('/new_test.csv')"
      ]
    },
    {
      "cell_type": "code",
      "execution_count": null,
      "metadata": {
        "id": "cGOtYqyFIEKG"
      },
      "outputs": [],
      "source": [
        "toxic_dataset = df_train.drop(columns=['id','Unnamed: 0','Unnamed: 0.1','Unnamed: 0.1.1'])\n",
        "df_test = df_test.drop(columns=['id','Unnamed: 0'])"
      ]
    },
    {
      "cell_type": "code",
      "execution_count": null,
      "metadata": {
        "colab": {
          "base_uri": "https://localhost:8080/"
        },
        "id": "m7xglCwoIEMw",
        "outputId": "ca04a862-0ab2-489c-8483-2a120d48fa8d"
      },
      "outputs": [
        {
          "name": "stdout",
          "output_type": "stream",
          "text": [
            "Loading word vectors.\n",
            "[=============================================-----] 91.1% 342.6/376.1MB downloaded\n"
          ]
        }
      ],
      "source": [
        "print('Loading word vectors.')\n",
        "# Load embeddings\n",
        "info = api.info()\n",
        "embedding_model = api.load(\"glove-wiki-gigaword-300\")"
      ]
    },
    {
      "cell_type": "code",
      "execution_count": null,
      "metadata": {
        "id": "uv5JA9gLIRR3"
      },
      "outputs": [],
      "source": [
        "index2word = embedding_model.index2word\n",
        "vocab_size = len(embedding_model.vocab)\n",
        "word2idx = {}\n",
        "for index in range(vocab_size):\n",
        "    word2idx[index2word[index]] = index"
      ]
    },
    {
      "cell_type": "code",
      "execution_count": null,
      "metadata": {
        "id": "ua2KoOeoNnmb"
      },
      "outputs": [],
      "source": [
        "def plot_confusion_matrix(preds,true_val):\n",
        "  results=confusion_matrix(preds,true_val)\n",
        "  plt.figure()\n",
        "  sns.heatmap(results/np.sum(results), annot=True,fmt='.2%', cmap='Blues')\n",
        "  plt.plot()"
      ]
    },
    {
      "cell_type": "code",
      "execution_count": null,
      "metadata": {
        "id": "LsSgUPAtMJbO"
      },
      "outputs": [],
      "source": [
        "##graphs maybe"
      ]
    },
    {
      "cell_type": "markdown",
      "metadata": {
        "id": "7aTTiWi3MRvL"
      },
      "source": [
        "# MULTI-LABEL CLASSIFICATION"
      ]
    },
    {
      "cell_type": "code",
      "execution_count": null,
      "metadata": {
        "id": "jWE8QdaOIESM"
      },
      "outputs": [],
      "source": [
        "y_train = toxic_dataset[[\"toxic\", \"severe_toxic\", \"obscene\", \"threat\", \"insult\", \"identity_hate\"]].values\n",
        "y_test = df_test[[\"toxic\", \"severe_toxic\", \"obscene\", \"threat\", \"insult\", \"identity_hate\"]].values"
      ]
    },
    {
      "cell_type": "code",
      "execution_count": null,
      "metadata": {
        "id": "556wpAvTIEXl"
      },
      "outputs": [],
      "source": [
        "tk = text.Tokenizer(num_words=MAX_NUM_WORDS)\n",
        "tk.fit_on_texts(toxic_dataset['comment_text'].fillna(\"\").values)"
      ]
    },
    {
      "cell_type": "code",
      "execution_count": null,
      "metadata": {
        "id": "_FdK88hcIEU8"
      },
      "outputs": [],
      "source": [
        "X_train = tk.texts_to_sequences(toxic_dataset['comment_text'].fillna(\"\").values)\n",
        "X_test = tk.texts_to_sequences(df_test['comment_text'].fillna(\"\").values)\n",
        "word_index = tk.word_index"
      ]
    },
    {
      "cell_type": "code",
      "execution_count": null,
      "metadata": {
        "id": "TrIVkOcOIEaO"
      },
      "outputs": [],
      "source": [
        "X_train = sequence.pad_sequences(X_train,maxlen=MAX_SEQUENCE_LENGTH)\n",
        "X_test = sequence.pad_sequences(X_test,maxlen=MAX_SEQUENCE_LENGTH)"
      ]
    },
    {
      "cell_type": "code",
      "execution_count": null,
      "metadata": {
        "id": "_12bvi4PMaiT"
      },
      "outputs": [],
      "source": [
        "num_words = min(MAX_NUM_WORDS, len(word_index))\n",
        "embedding_matrix = np.zeros((num_words, EMBEDDING_DIM))\n",
        "for word, i in word_index.items():\n",
        "    try:\n",
        "        embedding_vector = embedding_model.get_vector(word)\n",
        "        if embedding_vector is not None:\n",
        "            embedding_matrix[i] = embedding_vector\n",
        "    except:\n",
        "        continue"
      ]
    },
    {
      "cell_type": "code",
      "execution_count": null,
      "metadata": {
        "id": "tZAIx9ymMu23"
      },
      "outputs": [],
      "source": [
        "nb_validation_samples = int(VALIDATION_SPLIT * X_train.shape[0])\n",
        "x_train = X_train[:-nb_validation_samples]\n",
        "y_t = y_train[:-nb_validation_samples]\n",
        "x_val = X_train[-nb_validation_samples:]\n",
        "y_val = y_train[-nb_validation_samples:]"
      ]
    },
    {
      "cell_type": "markdown",
      "metadata": {
        "id": "wXAqg-T-M1kW"
      },
      "source": [
        "## Class Weights"
      ]
    },
    {
      "cell_type": "code",
      "execution_count": null,
      "metadata": {
        "id": "bgBCWhzuM4gY"
      },
      "outputs": [],
      "source": [
        "class_weight = { 0:y_train.shape[0]/y_train[:,0].sum(),\n",
        "                1:y_train.shape[0]/y_train[:,1].sum(),\n",
        "                2:y_train.shape[0]/y_train[:,2].sum(),\n",
        "                3:y_train.shape[0]/y_train[:,3].sum(),\n",
        "                4:y_train.shape[0]/y_train[:,4].sum(),\n",
        "                5:y_train.shape[0]/y_train[:,5].sum()\n",
        "}"
      ]
    },
    {
      "cell_type": "markdown",
      "metadata": {
        "id": "I_1F6KfjM9ix"
      },
      "source": [
        "##Multi-Class CNN Model"
      ]
    },
    {
      "cell_type": "code",
      "execution_count": null,
      "metadata": {
        "id": "c_sEKCyWNAKy"
      },
      "outputs": [],
      "source": [
        "inp = Input(shape=(MAX_SEQUENCE_LENGTH,))\n",
        "x = Embedding(MAX_NUM_WORDS,\n",
        "              EMBEDDING_DIM,\n",
        "              weights=[embedding_matrix],\n",
        "              input_length=MAX_SEQUENCE_LENGTH,\n",
        "              trainable=False)(inp)\n",
        "x = Conv1D(filters=128,kernel_size=8,strides=1,activation='relu',padding='valid')(x)\n",
        "x = MaxPooling1D()(x)\n",
        "x = Conv1D(filters=128,kernel_size=8,strides=1,activation='relu',padding='valid')(x)\n",
        "x = GlobalMaxPool1D()(x)\n",
        "x = Dense(100, activation=\"selu\")(x)\n",
        "x = Dropout(0.1)(x)\n",
        "x = Dense(50, activation=\"selu\")(x)\n",
        "x = Dropout(0.1)(x)\n",
        "x = Dense(6, activation = \"sigmoid\")(x)"
      ]
    },
    {
      "cell_type": "code",
      "execution_count": null,
      "metadata": {
        "colab": {
          "base_uri": "https://localhost:8080/"
        },
        "id": "OgD0ODsSNG21",
        "outputId": "791614c9-4251-4d49-a3e2-3aabf5b930eb"
      },
      "outputs": [
        {
          "name": "stdout",
          "output_type": "stream",
          "text": [
            "Model: \"functional_17\"\n",
            "_________________________________________________________________\n",
            "Layer (type)                 Output Shape              Param #   \n",
            "=================================================================\n",
            "input_5 (InputLayer)         [(None, 200)]             0         \n",
            "_________________________________________________________________\n",
            "embedding_4 (Embedding)      (None, 200, 300)          7500000   \n",
            "_________________________________________________________________\n",
            "conv1d_6 (Conv1D)            (None, 193, 128)          307328    \n",
            "_________________________________________________________________\n",
            "max_pooling1d_3 (MaxPooling1 (None, 96, 128)           0         \n",
            "_________________________________________________________________\n",
            "conv1d_7 (Conv1D)            (None, 89, 128)           131200    \n",
            "_________________________________________________________________\n",
            "global_max_pooling1d_4 (Glob (None, 128)               0         \n",
            "_________________________________________________________________\n",
            "dense_12 (Dense)             (None, 100)               12900     \n",
            "_________________________________________________________________\n",
            "dropout_8 (Dropout)          (None, 100)               0         \n",
            "_________________________________________________________________\n",
            "dense_13 (Dense)             (None, 50)                5050      \n",
            "_________________________________________________________________\n",
            "dropout_9 (Dropout)          (None, 50)                0         \n",
            "_________________________________________________________________\n",
            "dense_14 (Dense)             (None, 6)                 306       \n",
            "=================================================================\n",
            "Total params: 7,956,784\n",
            "Trainable params: 456,784\n",
            "Non-trainable params: 7,500,000\n",
            "_________________________________________________________________\n"
          ]
        }
      ],
      "source": [
        "model_cnn = Model(inputs=inp, outputs=x)\n",
        "model_cnn.compile(loss='binary_crossentropy',\n",
        "                  optimizer='adam',\n",
        "                  metrics=['acc',AUC(),Precision(),Recall()])\n",
        "\n",
        "model_cnn.summary()"
      ]
    },
    {
      "cell_type": "code",
      "execution_count": null,
      "metadata": {
        "colab": {
          "base_uri": "https://localhost:8080/",
          "height": 1000
        },
        "id": "XBZn7ERXWmpJ",
        "outputId": "002397e2-4700-4c4a-ea69-256e185d54d8"
      },
      "outputs": [
        {
          "data": {
            "image/png": "[encoded data removed]",
            "text/plain": [
              "<IPython.core.display.Image object>"
            ]
          },
          "execution_count": 108,
          "metadata": {
            "tags": []
          },
          "output_type": "execute_result"
        }
      ],
      "source": [
        "plot_model(\n",
        "    model_cnn,\n",
        "    to_file=\"model.png\",\n",
        ")"
      ]
    },
    {
      "cell_type": "code",
      "execution_count": null,
      "metadata": {
        "colab": {
          "base_uri": "https://localhost:8080/"
        },
        "id": "lSVSeYFCNNDG",
        "outputId": "69ea4539-2469-481d-9ec8-04768ae60217"
      },
      "outputs": [
        {
          "name": "stdout",
          "output_type": "stream",
          "text": [
            "Epoch 1/30\n",
            "2244/2244 [==============================] - 28s 13ms/step - loss: 0.9161 - acc: 0.7562 - auc_7: 0.9448 - precision_7: 0.7521 - recall_7: 0.4823 - val_loss: 0.0685 - val_acc: 0.9812 - val_auc_7: 0.9622 - val_precision_7: 0.7825 - val_recall_7: 0.5252\n",
            "Epoch 2/30\n",
            "2244/2244 [==============================] - 27s 12ms/step - loss: 0.7591 - acc: 0.8922 - auc_7: 0.9640 - precision_7: 0.7878 - recall_7: 0.5536 - val_loss: 0.0663 - val_acc: 0.9695 - val_auc_7: 0.9637 - val_precision_7: 0.7603 - val_recall_7: 0.5760\n",
            "Epoch 3/30\n",
            "2244/2244 [==============================] - 26s 12ms/step - loss: 0.6808 - acc: 0.9263 - auc_7: 0.9721 - precision_7: 0.8027 - recall_7: 0.5981 - val_loss: 0.0729 - val_acc: 0.9803 - val_auc_7: 0.9508 - val_precision_7: 0.8642 - val_recall_7: 0.4459\n",
            "Epoch 4/30\n",
            "2244/2244 [==============================] - 26s 12ms/step - loss: 0.6000 - acc: 0.9495 - auc_7: 0.9780 - precision_7: 0.8133 - recall_7: 0.6318 - val_loss: 0.0714 - val_acc: 0.9846 - val_auc_7: 0.9481 - val_precision_7: 0.8148 - val_recall_7: 0.5104\n",
            "Epoch 5/30\n",
            "2244/2244 [==============================] - 26s 12ms/step - loss: 0.5256 - acc: 0.9229 - auc_7: 0.9831 - precision_7: 0.8235 - recall_7: 0.6791 - val_loss: 0.0714 - val_acc: 0.9448 - val_auc_7: 0.9471 - val_precision_7: 0.7781 - val_recall_7: 0.5504\n",
            "Epoch 6/30\n",
            "2244/2244 [==============================] - 26s 11ms/step - loss: 0.4767 - acc: 0.8980 - auc_7: 0.9863 - precision_7: 0.8335 - recall_7: 0.7101 - val_loss: 0.0782 - val_acc: 0.9664 - val_auc_7: 0.9336 - val_precision_7: 0.7935 - val_recall_7: 0.5429\n",
            "Epoch 7/30\n",
            "2244/2244 [==============================] - 25s 11ms/step - loss: 0.4302 - acc: 0.8352 - auc_7: 0.9886 - precision_7: 0.8488 - recall_7: 0.7468 - val_loss: 0.0826 - val_acc: 0.8745 - val_auc_7: 0.9286 - val_precision_7: 0.7293 - val_recall_7: 0.5866\n",
            "Epoch 8/30\n",
            "2244/2244 [==============================] - 25s 11ms/step - loss: 0.3812 - acc: 0.8808 - auc_7: 0.9907 - precision_7: 0.8655 - recall_7: 0.7752 - val_loss: 0.0914 - val_acc: 0.9614 - val_auc_7: 0.9183 - val_precision_7: 0.7390 - val_recall_7: 0.5746\n",
            "Epoch 9/30\n",
            "2244/2244 [==============================] - 26s 11ms/step - loss: 0.3545 - acc: 0.8692 - auc_7: 0.9917 - precision_7: 0.8732 - recall_7: 0.7918 - val_loss: 0.0901 - val_acc: 0.8320 - val_auc_7: 0.9226 - val_precision_7: 0.7070 - val_recall_7: 0.5950\n",
            "Epoch 10/30\n",
            "2244/2244 [==============================] - 26s 12ms/step - loss: 0.3158 - acc: 0.8479 - auc_7: 0.9931 - precision_7: 0.8881 - recall_7: 0.8146 - val_loss: 0.1014 - val_acc: 0.9712 - val_auc_7: 0.9077 - val_precision_7: 0.7428 - val_recall_7: 0.5569\n",
            "Epoch 11/30\n",
            "2244/2244 [==============================] - 25s 11ms/step - loss: 0.2957 - acc: 0.8234 - auc_7: 0.9936 - precision_7: 0.8946 - recall_7: 0.8270 - val_loss: 0.1012 - val_acc: 0.9559 - val_auc_7: 0.9094 - val_precision_7: 0.7021 - val_recall_7: 0.5726\n",
            "Epoch 12/30\n",
            "2244/2244 [==============================] - 25s 11ms/step - loss: 0.2796 - acc: 0.8393 - auc_7: 0.9943 - precision_7: 0.8985 - recall_7: 0.8345 - val_loss: 0.1133 - val_acc: 0.9480 - val_auc_7: 0.8951 - val_precision_7: 0.7222 - val_recall_7: 0.5597\n",
            "Epoch 13/30\n",
            "2244/2244 [==============================] - 26s 12ms/step - loss: 0.2687 - acc: 0.8018 - auc_7: 0.9947 - precision_7: 0.9062 - recall_7: 0.8486 - val_loss: 0.1135 - val_acc: 0.8555 - val_auc_7: 0.8937 - val_precision_7: 0.7427 - val_recall_7: 0.5493\n",
            "Epoch 14/30\n",
            "2244/2244 [==============================] - 26s 11ms/step - loss: 0.2396 - acc: 0.7947 - auc_7: 0.9953 - precision_7: 0.9171 - recall_7: 0.8624 - val_loss: 0.1284 - val_acc: 0.9411 - val_auc_7: 0.8843 - val_precision_7: 0.7139 - val_recall_7: 0.5617\n",
            "Epoch 15/30\n",
            "2244/2244 [==============================] - 25s 11ms/step - loss: 0.2340 - acc: 0.7906 - auc_7: 0.9957 - precision_7: 0.9192 - recall_7: 0.8665 - val_loss: 0.1168 - val_acc: 0.8804 - val_auc_7: 0.9010 - val_precision_7: 0.6480 - val_recall_7: 0.5891\n",
            "Epoch 16/30\n",
            "2244/2244 [==============================] - 26s 11ms/step - loss: 0.2249 - acc: 0.8383 - auc_7: 0.9957 - precision_7: 0.9217 - recall_7: 0.8716 - val_loss: 0.1277 - val_acc: 0.9425 - val_auc_7: 0.8877 - val_precision_7: 0.6987 - val_recall_7: 0.5790\n",
            "Epoch 17/30\n",
            "2244/2244 [==============================] - 25s 11ms/step - loss: 0.2099 - acc: 0.8196 - auc_7: 0.9964 - precision_7: 0.9294 - recall_7: 0.8769 - val_loss: 0.1378 - val_acc: 0.8984 - val_auc_7: 0.8769 - val_precision_7: 0.7241 - val_recall_7: 0.5538\n",
            "Epoch 18/30\n",
            "2244/2244 [==============================] - 26s 11ms/step - loss: 0.2065 - acc: 0.8767 - auc_7: 0.9962 - precision_7: 0.9295 - recall_7: 0.8813 - val_loss: 0.1306 - val_acc: 0.8322 - val_auc_7: 0.8932 - val_precision_7: 0.6687 - val_recall_7: 0.5793\n",
            "Epoch 19/30\n",
            "2244/2244 [==============================] - 26s 11ms/step - loss: 0.2111 - acc: 0.8366 - auc_7: 0.9965 - precision_7: 0.9294 - recall_7: 0.8837 - val_loss: 0.1401 - val_acc: 0.8821 - val_auc_7: 0.8828 - val_precision_7: 0.6786 - val_recall_7: 0.5746\n",
            "Epoch 20/30\n",
            "2244/2244 [==============================] - 26s 12ms/step - loss: 0.1881 - acc: 0.8120 - auc_7: 0.9968 - precision_7: 0.9394 - recall_7: 0.8923 - val_loss: 0.1514 - val_acc: 0.7899 - val_auc_7: 0.8630 - val_precision_7: 0.7140 - val_recall_7: 0.5381\n",
            "Epoch 21/30\n",
            "2244/2244 [==============================] - 26s 11ms/step - loss: 0.1906 - acc: 0.7203 - auc_7: 0.9969 - precision_7: 0.9390 - recall_7: 0.8926 - val_loss: 0.1626 - val_acc: 0.7871 - val_auc_7: 0.8634 - val_precision_7: 0.7040 - val_recall_7: 0.5619\n",
            "Epoch 22/30\n",
            "2244/2244 [==============================] - 26s 12ms/step - loss: 0.2000 - acc: 0.6894 - auc_7: 0.9969 - precision_7: 0.9396 - recall_7: 0.8966 - val_loss: 0.1482 - val_acc: 0.9036 - val_auc_7: 0.8728 - val_precision_7: 0.7063 - val_recall_7: 0.5594\n",
            "Epoch 23/30\n",
            "2244/2244 [==============================] - 26s 12ms/step - loss: 0.2058 - acc: 0.6586 - auc_7: 0.9970 - precision_7: 0.9420 - recall_7: 0.8969 - val_loss: 0.1395 - val_acc: 0.8111 - val_auc_7: 0.8831 - val_precision_7: 0.6944 - val_recall_7: 0.5762\n",
            "Epoch 24/30\n",
            "2244/2244 [==============================] - 25s 11ms/step - loss: 0.1642 - acc: 0.5824 - auc_7: 0.9975 - precision_7: 0.9491 - recall_7: 0.9049 - val_loss: 0.1468 - val_acc: 0.8232 - val_auc_7: 0.8814 - val_precision_7: 0.6761 - val_recall_7: 0.5874\n",
            "Epoch 25/30\n",
            "2244/2244 [==============================] - 26s 12ms/step - loss: 0.1673 - acc: 0.7532 - auc_7: 0.9974 - precision_7: 0.9488 - recall_7: 0.9045 - val_loss: 0.1513 - val_acc: 0.9221 - val_auc_7: 0.8736 - val_precision_7: 0.6954 - val_recall_7: 0.5706\n",
            "Epoch 26/30\n",
            "2244/2244 [==============================] - 26s 12ms/step - loss: 0.1764 - acc: 0.7620 - auc_7: 0.9971 - precision_7: 0.9448 - recall_7: 0.9011 - val_loss: 0.1546 - val_acc: 0.9277 - val_auc_7: 0.8704 - val_precision_7: 0.6702 - val_recall_7: 0.5684\n",
            "Epoch 27/30\n",
            "2244/2244 [==============================] - 26s 12ms/step - loss: 0.1578 - acc: 0.6024 - auc_7: 0.9975 - precision_7: 0.9524 - recall_7: 0.9071 - val_loss: 0.1607 - val_acc: 0.9081 - val_auc_7: 0.8702 - val_precision_7: 0.6944 - val_recall_7: 0.5636\n",
            "Epoch 28/30\n",
            "2244/2244 [==============================] - 26s 11ms/step - loss: 0.1528 - acc: 0.7107 - auc_7: 0.9974 - precision_7: 0.9529 - recall_7: 0.9083 - val_loss: 0.1604 - val_acc: 0.9753 - val_auc_7: 0.8669 - val_precision_7: 0.6816 - val_recall_7: 0.5723\n",
            "Epoch 29/30\n",
            "2244/2244 [==============================] - 26s 11ms/step - loss: 0.1597 - acc: 0.7197 - auc_7: 0.9974 - precision_7: 0.9531 - recall_7: 0.9096 - val_loss: 0.1365 - val_acc: 0.6473 - val_auc_7: 0.8780 - val_precision_7: 0.6694 - val_recall_7: 0.5653\n",
            "Epoch 30/30\n",
            "2244/2244 [==============================] - 26s 11ms/step - loss: 0.1488 - acc: 0.6347 - auc_7: 0.9977 - precision_7: 0.9544 - recall_7: 0.9121 - val_loss: 0.1657 - val_acc: 0.9208 - val_auc_7: 0.8708 - val_precision_7: 0.6850 - val_recall_7: 0.5858\n"
          ]
        }
      ],
      "source": [
        "history_cnn = model_cnn.fit(x_train,y_t, batch_size=64, epochs=30,validation_data=(x_val,y_val),class_weight=class_weight)"
      ]
    },
    {
      "cell_type": "markdown",
      "metadata": {
        "id": "b-9AHNV4OkNn"
      },
      "source": [
        "### RESULTS"
      ]
    },
    {
      "cell_type": "code",
      "execution_count": null,
      "metadata": {
        "id": "23N4JEjcOmT3"
      },
      "outputs": [],
      "source": [
        "labels = [\"toxic\", \"severe_toxic\", \"obscene\", \"threat\", \"insult\", \"identity_hate\"]"
      ]
    },
    {
      "cell_type": "code",
      "execution_count": null,
      "metadata": {
        "id": "fyuqB43zOw28"
      },
      "outputs": [],
      "source": [
        "preds = model_cnn.predict(X_test).round()"
      ]
    },
    {
      "cell_type": "markdown",
      "metadata": {
        "id": "d37bNcqwWx8m"
      },
      "source": [
        "####Loss graph"
      ]
    },
    {
      "cell_type": "code",
      "execution_count": null,
      "metadata": {
        "colab": {
          "base_uri": "https://localhost:8080/",
          "height": 295
        },
        "id": "8IFgI_HsWtOZ",
        "outputId": "3fba8d62-57a7-4a61-95c9-5bd999df82c2"
      },
      "outputs": [
        {
          "data": {
            "image/png": "[encoded data removed]",
            "text/plain": [
              "<Figure size 432x288 with 1 Axes>"
            ]
          },
          "metadata": {
            "needs_background": "light",
            "tags": []
          },
          "output_type": "display_data"
        }
      ],
      "source": [
        "plt.plot(history_cnn.history['loss'][:20])\n",
        "plt.plot(history_cnn.history['val_loss'][:20])\n",
        "plt.title('model loss')\n",
        "plt.ylabel('loss')\n",
        "plt.xlabel('epoch')\n",
        "plt.legend(['train','test'], loc='upper left')\n",
        "plt.show()"
      ]
    },
    {
      "cell_type": "markdown",
      "metadata": {
        "id": "e2kHCdy5O5Ou"
      },
      "source": [
        "#### Accuracy and F1 Score"
      ]
    },
    {
      "cell_type": "code",
      "execution_count": null,
      "metadata": {
        "colab": {
          "base_uri": "https://localhost:8080/"
        },
        "id": "WYMQAOWiO7sh",
        "outputId": "34e787d0-e4a4-4aba-f004-7322304e91f7"
      },
      "outputs": [
        {
          "name": "stdout",
          "output_type": "stream",
          "text": [
            "Accuray of toxic                : 0.9008 \n",
            "\n",
            "Accuray of severe_toxic         : 0.9924 \n",
            "\n",
            "Accuray of obscene              : 0.9457 \n",
            "\n",
            "Accuray of threat               : 0.9961 \n",
            "\n",
            "Accuray of insult               : 0.9445 \n",
            "\n",
            "Accuray of identity_hate        : 0.9882 \n",
            "\n"
          ]
        }
      ],
      "source": [
        "for i,label in enumerate(labels):\n",
        "  print(\"Accuray of %-20s : %.4f \\n\"%(label,accuracy_score(preds[:,i],y_test[:,i])))"
      ]
    },
    {
      "cell_type": "code",
      "execution_count": null,
      "metadata": {
        "colab": {
          "base_uri": "https://localhost:8080/"
        },
        "id": "lw5eFolAR5HJ",
        "outputId": "61e2e6dc-831b-4ae2-e042-372d6fc859e0"
      },
      "outputs": [
        {
          "name": "stdout",
          "output_type": "stream",
          "text": [
            "F1 Score of toxic                : 0.5641 \n",
            "\n",
            "F1 Score of severe_toxic         : 0.3013 \n",
            "\n",
            "F1 Score of obscene              : 0.5697 \n",
            "\n",
            "F1 Score of threat               : 0.1889 \n",
            "\n",
            "F1 Score of insult               : 0.5127 \n",
            "\n",
            "F1 Score of identity_hate        : 0.3568 \n",
            "\n"
          ]
        }
      ],
      "source": [
        "for i,label in enumerate(labels):\n",
        "  print(\"F1 Score of %-20s : %2.4f \\n\"%(label,f1_score(preds[:,i],y_test[:,i])))"
      ]
    },
    {
      "cell_type": "markdown",
      "metadata": {
        "id": "qvQwNGaHSQC1"
      },
      "source": [
        "#### Confusion Matrix"
      ]
    },
    {
      "cell_type": "code",
      "execution_count": null,
      "metadata": {
        "colab": {
          "base_uri": "https://localhost:8080/"
        },
        "id": "a_jNINkZSVmy",
        "outputId": "b27006c8-2e53-499f-bf15-8388abdf7b5b"
      },
      "outputs": [
        {
          "name": "stdout",
          "output_type": "stream",
          "text": [
            "Confusion Matrix of toxic:\n",
            "[[53524  1983]\n",
            " [ 4364  4107]]\n",
            "Confusion Matrix of severe_toxic:\n",
            "[[63386   262]\n",
            " [  225   105]]\n",
            "Confusion Matrix of obscene:\n",
            "[[58204  1391]\n",
            " [ 2083  2300]]\n",
            "Confusion Matrix of threat:\n",
            "[[63700   182]\n",
            " [   67    29]]\n",
            "Confusion Matrix of insult:\n",
            "[[58556  1558]\n",
            " [ 1995  1869]]\n",
            "Confusion Matrix of identity_hate:\n",
            "[[63011   502]\n",
            " [  255   210]]\n"
          ]
        }
      ],
      "source": [
        "for i,label in enumerate(labels):\n",
        "  print(\"Confusion Matrix of %-s:\"%(label))\n",
        "  print(confusion_matrix(preds[:,i],y_test[:,i]))"
      ]
    },
    {
      "cell_type": "code",
      "execution_count": null,
      "metadata": {
        "colab": {
          "base_uri": "https://localhost:8080/",
          "height": 298
        },
        "id": "m3s6TqEWVIFC",
        "outputId": "df2c48fe-99c6-488d-e119-ad8b6b75154e"
      },
      "outputs": [
        {
          "name": "stdout",
          "output_type": "stream",
          "text": [
            "Toxic Confusion Matrix:\n"
          ]
        },
        {
          "data": {
            "text/plain": [
              "<matplotlib.axes._subplots.AxesSubplot at 0x7fe0d4a57ba8>"
            ]
          },
          "execution_count": 116,
          "metadata": {
            "tags": []
          },
          "output_type": "execute_result"
        },
        {
          "data": {
            "image/png": "[encoded data removed]",
            "text/plain": [
              "<Figure size 432x288 with 2 Axes>"
            ]
          },
          "metadata": {
            "needs_background": "light",
            "tags": []
          },
          "output_type": "display_data"
        }
      ],
      "source": [
        "print(\"Toxic Confusion Matrix:\")\n",
        "results=confusion_matrix(preds[:,0], y_test[:,0])\n",
        "sns.heatmap(results/np.sum(results), annot=True,fmt='.2%', cmap='Blues') #toxic"
      ]
    },
    {
      "cell_type": "code",
      "execution_count": null,
      "metadata": {
        "colab": {
          "base_uri": "https://localhost:8080/",
          "height": 298
        },
        "id": "z3mhDbakSk1T",
        "outputId": "5bfde9e8-47bc-43c2-a71e-9c1cf41be87c"
      },
      "outputs": [
        {
          "name": "stdout",
          "output_type": "stream",
          "text": [
            "Severe Toxic Confusion Matrix:\n"
          ]
        },
        {
          "data": {
            "text/plain": [
              "<matplotlib.axes._subplots.AxesSubplot at 0x7fe0d4b17ac8>"
            ]
          },
          "execution_count": 117,
          "metadata": {
            "tags": []
          },
          "output_type": "execute_result"
        },
        {
          "data": {
            "image/png": "[encoded data removed]",
            "text/plain": [
              "<Figure size 432x288 with 2 Axes>"
            ]
          },
          "metadata": {
            "needs_background": "light",
            "tags": []
          },
          "output_type": "display_data"
        }
      ],
      "source": [
        "print(\"Severe Toxic Confusion Matrix:\")\n",
        "results=confusion_matrix(preds[:,1], y_test[:,1])\n",
        "sns.heatmap(results/np.sum(results), annot=True,fmt='.2%', cmap='Blues') #toxic"
      ]
    },
    {
      "cell_type": "code",
      "execution_count": null,
      "metadata": {
        "colab": {
          "base_uri": "https://localhost:8080/",
          "height": 301
        },
        "id": "YsY_-qJ0WDYl",
        "outputId": "78a2bf6e-bb4e-4301-fba3-97ae822b4c2a"
      },
      "outputs": [
        {
          "name": "stdout",
          "output_type": "stream",
          "text": [
            "Obscene Confusion Matrix:\n"
          ]
        },
        {
          "data": {
            "text/plain": [
              "<matplotlib.axes._subplots.AxesSubplot at 0x7fe0d494f278>"
            ]
          },
          "execution_count": 118,
          "metadata": {
            "tags": []
          },
          "output_type": "execute_result"
        },
        {
          "data": {
            "image/png": "[encoded data removed]",
            "text/plain": [
              "<Figure size 432x288 with 2 Axes>"
            ]
          },
          "metadata": {
            "needs_background": "light",
            "tags": []
          },
          "output_type": "display_data"
        }
      ],
      "source": [
        "print(\"Obscene Confusion Matrix:\")\n",
        "results=confusion_matrix(preds[:,2], y_test[:,2])\n",
        "sns.heatmap(results/np.sum(results), annot=True,fmt='.2%', cmap='Blues') #toxic"
      ]
    },
    {
      "cell_type": "code",
      "execution_count": null,
      "metadata": {
        "colab": {
          "base_uri": "https://localhost:8080/",
          "height": 298
        },
        "id": "R9iP3b08WI9J",
        "outputId": "7e537406-8a3a-4176-9b72-fcad0de96e84"
      },
      "outputs": [
        {
          "name": "stdout",
          "output_type": "stream",
          "text": [
            "Threat Confusion Matrix:\n"
          ]
        },
        {
          "data": {
            "text/plain": [
              "<matplotlib.axes._subplots.AxesSubplot at 0x7fe0d48cd898>"
            ]
          },
          "execution_count": 119,
          "metadata": {
            "tags": []
          },
          "output_type": "execute_result"
        },
        {
          "data": {
            "image/png": "[encoded data removed]",
            "text/plain": [
              "<Figure size 432x288 with 2 Axes>"
            ]
          },
          "metadata": {
            "needs_background": "light",
            "tags": []
          },
          "output_type": "display_data"
        }
      ],
      "source": [
        "print(\"Threat Confusion Matrix:\")\n",
        "results=confusion_matrix(preds[:,3], y_test[:,3])\n",
        "sns.heatmap(results/np.sum(results), annot=True,fmt='.2%', cmap='Blues') #toxic"
      ]
    },
    {
      "cell_type": "code",
      "execution_count": null,
      "metadata": {
        "colab": {
          "base_uri": "https://localhost:8080/",
          "height": 300
        },
        "id": "G7v-41gwWOUq",
        "outputId": "52d15d3f-cda0-48f3-a471-b3c2df011282"
      },
      "outputs": [
        {
          "name": "stdout",
          "output_type": "stream",
          "text": [
            "Insult Confusion Matrix:\n"
          ]
        },
        {
          "data": {
            "text/plain": [
              "<matplotlib.axes._subplots.AxesSubplot at 0x7fe0d48695f8>"
            ]
          },
          "execution_count": 120,
          "metadata": {
            "tags": []
          },
          "output_type": "execute_result"
        },
        {
          "data": {
            "image/png": "[encoded data removed]",
            "text/plain": [
              "<Figure size 432x288 with 2 Axes>"
            ]
          },
          "metadata": {
            "needs_background": "light",
            "tags": []
          },
          "output_type": "display_data"
        }
      ],
      "source": [
        "print(\"Insult Confusion Matrix:\")\n",
        "results=confusion_matrix(preds[:,4], y_test[:,4])\n",
        "sns.heatmap(results/np.sum(results), annot=True,fmt='.2%', cmap='Blues') #toxic"
      ]
    },
    {
      "cell_type": "code",
      "execution_count": null,
      "metadata": {
        "colab": {
          "base_uri": "https://localhost:8080/",
          "height": 298
        },
        "id": "C0SYlOSuWPwK",
        "outputId": "2551290b-4054-4529-ae72-46c008d9bda1"
      },
      "outputs": [
        {
          "name": "stdout",
          "output_type": "stream",
          "text": [
            "Identity Hate Confusion Matrix:\n"
          ]
        },
        {
          "data": {
            "text/plain": [
              "<matplotlib.axes._subplots.AxesSubplot at 0x7fe0d476efd0>"
            ]
          },
          "execution_count": 121,
          "metadata": {
            "tags": []
          },
          "output_type": "execute_result"
        },
        {
          "data": {
            "image/png": "[encoded data removed]",
            "text/plain": [
              "<Figure size 432x288 with 2 Axes>"
            ]
          },
          "metadata": {
            "needs_background": "light",
            "tags": []
          },
          "output_type": "display_data"
        }
      ],
      "source": [
        "print(\"Identity Hate Confusion Matrix:\")\n",
        "results=confusion_matrix(preds[:,5], y_test[:,5])\n",
        "sns.heatmap(results/np.sum(results), annot=True,fmt='.2%', cmap='Blues') #toxic"
      ]
    },
    {
      "cell_type": "markdown",
      "metadata": {
        "id": "DWRrRev6XBNM"
      },
      "source": [
        "## LSTM Model"
      ]
    },
    {
      "cell_type": "code",
      "execution_count": null,
      "metadata": {
        "id": "GvFB58ECXDFf"
      },
      "outputs": [],
      "source": [
        "inp = Input(shape=(MAX_SEQUENCE_LENGTH,))\n",
        "x = Embedding(MAX_NUM_WORDS,\n",
        "              EMBEDDING_DIM,\n",
        "              weights=[embedding_matrix],\n",
        "              input_length=MAX_SEQUENCE_LENGTH,\n",
        "              trainable=True)(inp)\n",
        "x = Bidirectional(LSTM(64, return_sequences = True))(x)\n",
        "x = Bidirectional(LSTM(128, return_sequences = True))(x)\n",
        "x = GlobalMaxPool1D()(x)\n",
        "x = Dense(100, activation=\"selu\")(x)\n",
        "x = Dropout(0.3)(x)\n",
        "x = Dense(50, activation=\"selu\")(x)\n",
        "x = Dropout(0.3)(x)\n",
        "x = Dense(6, activation = \"sigmoid\")(x)"
      ]
    },
    {
      "cell_type": "code",
      "execution_count": null,
      "metadata": {
        "colab": {
          "base_uri": "https://localhost:8080/"
        },
        "id": "riJM_NsEXDur",
        "outputId": "4d948db6-2d55-4b8c-b827-e3621d912258"
      },
      "outputs": [
        {
          "name": "stdout",
          "output_type": "stream",
          "text": [
            "Model: \"functional_7\"\n",
            "_________________________________________________________________\n",
            "Layer (type)                 Output Shape              Param #   \n",
            "=================================================================\n",
            "input_2 (InputLayer)         [(None, 200)]             0         \n",
            "_________________________________________________________________\n",
            "embedding_1 (Embedding)      (None, 200, 300)          7500000   \n",
            "_________________________________________________________________\n",
            "bidirectional (Bidirectional (None, 200, 128)          186880    \n",
            "_________________________________________________________________\n",
            "bidirectional_1 (Bidirection (None, 200, 256)          263168    \n",
            "_________________________________________________________________\n",
            "global_max_pooling1d_1 (Glob (None, 256)               0         \n",
            "_________________________________________________________________\n",
            "dense_3 (Dense)              (None, 100)               25700     \n",
            "_________________________________________________________________\n",
            "dropout_2 (Dropout)          (None, 100)               0         \n",
            "_________________________________________________________________\n",
            "dense_4 (Dense)              (None, 50)                5050      \n",
            "_________________________________________________________________\n",
            "dropout_3 (Dropout)          (None, 50)                0         \n",
            "_________________________________________________________________\n",
            "dense_5 (Dense)              (None, 6)                 306       \n",
            "=================================================================\n",
            "Total params: 7,981,104\n",
            "Trainable params: 7,981,104\n",
            "Non-trainable params: 0\n",
            "_________________________________________________________________\n"
          ]
        }
      ],
      "source": [
        "model_lstm = Model(inputs=inp, outputs=x)\n",
        "model_lstm.compile(loss='binary_crossentropy',\n",
        "                  optimizer='adam',\n",
        "                  metrics=['acc',AUC(),Precision(),Recall()])\n",
        "\n",
        "model_lstm.summary()"
      ]
    },
    {
      "cell_type": "code",
      "execution_count": null,
      "metadata": {
        "colab": {
          "base_uri": "https://localhost:8080/",
          "height": 953
        },
        "id": "OFwpf1gAXcs1",
        "outputId": "b4c0b990-5f30-4dbf-fb57-eb6b5206c20a"
      },
      "outputs": [
        {
          "data": {
            "image/png": "[encoded data removed]",
            "text/plain": [
              "<IPython.core.display.Image object>"
            ]
          },
          "execution_count": 78,
          "metadata": {
            "tags": []
          },
          "output_type": "execute_result"
        }
      ],
      "source": [
        "plot_model(\n",
        "    model_lstm,\n",
        "    to_file=\"model.png\",\n",
        ")"
      ]
    },
    {
      "cell_type": "code",
      "execution_count": null,
      "metadata": {
        "colab": {
          "base_uri": "https://localhost:8080/"
        },
        "id": "Nf3c_t74Xcs1",
        "outputId": "091b6baf-c71f-4584-ed7d-23fcb171d7dc"
      },
      "outputs": [
        {
          "name": "stdout",
          "output_type": "stream",
          "text": [
            "Epoch 1/7\n",
            "2244/2244 [==============================] - 261s 117ms/step - loss: 0.7292 - acc: 0.6259 - auc_2: 0.9703 - precision_2: 0.7726 - recall_2: 0.6129 - val_loss: 0.0500 - val_acc: 0.7059 - val_auc_2: 0.9795 - val_precision_2: 0.8226 - val_recall_2: 0.6393\n",
            "Epoch 2/7\n",
            "2244/2244 [==============================] - 265s 118ms/step - loss: 0.5320 - acc: 0.7571 - auc_2: 0.9854 - precision_2: 0.8048 - recall_2: 0.7046 - val_loss: 0.0472 - val_acc: 0.9810 - val_auc_2: 0.9814 - val_precision_2: 0.7691 - val_recall_2: 0.7433\n",
            "Epoch 3/7\n",
            "2244/2244 [==============================] - 265s 118ms/step - loss: 0.4439 - acc: 0.8151 - auc_2: 0.9896 - precision_2: 0.8206 - recall_2: 0.7501 - val_loss: 0.0521 - val_acc: 0.9872 - val_auc_2: 0.9699 - val_precision_2: 0.7884 - val_recall_2: 0.7018\n",
            "Epoch 4/7\n",
            "2244/2244 [==============================] - 266s 119ms/step - loss: 0.3713 - acc: 0.7797 - auc_2: 0.9924 - precision_2: 0.8405 - recall_2: 0.7996 - val_loss: 0.0540 - val_acc: 0.9551 - val_auc_2: 0.9691 - val_precision_2: 0.7624 - val_recall_2: 0.7276\n",
            "Epoch 5/7\n",
            "2244/2244 [==============================] - 266s 118ms/step - loss: 0.3069 - acc: 0.7609 - auc_2: 0.9946 - precision_2: 0.8670 - recall_2: 0.8388 - val_loss: 0.0610 - val_acc: 0.9510 - val_auc_2: 0.9590 - val_precision_2: 0.7788 - val_recall_2: 0.6897\n",
            "Epoch 6/7\n",
            "2244/2244 [==============================] - 266s 119ms/step - loss: 0.2471 - acc: 0.7413 - auc_2: 0.9959 - precision_2: 0.8929 - recall_2: 0.8749 - val_loss: 0.0712 - val_acc: 0.9786 - val_auc_2: 0.9484 - val_precision_2: 0.7587 - val_recall_2: 0.6881\n",
            "Epoch 7/7\n",
            "2244/2244 [==============================] - 266s 118ms/step - loss: 0.2000 - acc: 0.7166 - auc_2: 0.9969 - precision_2: 0.9150 - recall_2: 0.9018 - val_loss: 0.0801 - val_acc: 0.9532 - val_auc_2: 0.9432 - val_precision_2: 0.7296 - val_recall_2: 0.7102\n"
          ]
        }
      ],
      "source": [
        "history_lstm = model_lstm.fit(x_train,y_t, batch_size=64, epochs=7,validation_data=(x_val,y_val),class_weight=class_weight)"
      ]
    },
    {
      "cell_type": "markdown",
      "metadata": {
        "id": "EacW2HKqXcs1"
      },
      "source": [
        "### RESULTS"
      ]
    },
    {
      "cell_type": "code",
      "execution_count": null,
      "metadata": {
        "id": "psZZhpCJXcs1"
      },
      "outputs": [],
      "source": [
        "labels = [\"toxic\", \"severe_toxic\", \"obscene\", \"threat\", \"insult\", \"identity_hate\"]"
      ]
    },
    {
      "cell_type": "code",
      "execution_count": null,
      "metadata": {
        "id": "FetaiqJcXcs1"
      },
      "outputs": [],
      "source": [
        "preds = model_lstm.predict(X_test).round()"
      ]
    },
    {
      "cell_type": "markdown",
      "metadata": {
        "id": "5PF7SO75Xcs1"
      },
      "source": [
        "#### Accuracy and Loss graph"
      ]
    },
    {
      "cell_type": "code",
      "execution_count": null,
      "metadata": {
        "colab": {
          "base_uri": "https://localhost:8080/",
          "height": 573
        },
        "id": "K2Hw2EXCX7A1",
        "outputId": "4e777c35-ca0e-46c8-9c58-741178bbe77e"
      },
      "outputs": [
        {
          "data": {
            "image/png": "[encoded data removed]",
            "text/plain": [
              "<Figure size 432x288 with 1 Axes>"
            ]
          },
          "metadata": {
            "needs_background": "light",
            "tags": []
          },
          "output_type": "display_data"
        },
        {
          "data": {
            "image/png": "[encoded data removed]",
            "text/plain": [
              "<Figure size 432x288 with 1 Axes>"
            ]
          },
          "metadata": {
            "needs_background": "light",
            "tags": []
          },
          "output_type": "display_data"
        }
      ],
      "source": [
        "plt.plot(history_lstm.history['acc'][:20])\n",
        "plt.plot(history_lstm.history['val_acc'][:20])\n",
        "plt.title('Accuracy')\n",
        "plt.ylabel('accuracy')\n",
        "plt.xlabel('epoch')\n",
        "plt.legend(['train','test'], loc='upper left')\n",
        "plt.show()\n",
        "plt.plot(history_lstm.history['loss'][:20])\n",
        "plt.plot(history_lstm.history['val_loss'][:20])\n",
        "plt.title('model loss')\n",
        "plt.ylabel('loss')\n",
        "plt.xlabel('epoch')\n",
        "plt.legend(['train','test'], loc='upper left')\n",
        "plt.show()"
      ]
    },
    {
      "cell_type": "markdown",
      "metadata": {
        "id": "WWK_MPcqXcs1"
      },
      "source": [
        "#### Accuracy and F1 Score"
      ]
    },
    {
      "cell_type": "code",
      "execution_count": null,
      "metadata": {
        "colab": {
          "base_uri": "https://localhost:8080/"
        },
        "id": "d6GzbZ4uXcs1",
        "outputId": "0f7ac77c-72a2-41aa-add1-e7b05bc6872b"
      },
      "outputs": [
        {
          "name": "stdout",
          "output_type": "stream",
          "text": [
            "Accuray of toxic                : 0.9088 \n",
            "\n",
            "Accuray of severe_toxic         : 0.9918 \n",
            "\n",
            "Accuray of obscene              : 0.9569 \n",
            "\n",
            "Accuray of threat               : 0.9947 \n",
            "\n",
            "Accuray of insult               : 0.9505 \n",
            "\n",
            "Accuray of identity_hate        : 0.9871 \n",
            "\n"
          ]
        }
      ],
      "source": [
        "for i,label in enumerate(labels):\n",
        "  print(\"Accuray of %-20s : %.4f \\n\"%(label,accuracy_score(preds[:,i],y_test[:,i])))"
      ]
    },
    {
      "cell_type": "code",
      "execution_count": null,
      "metadata": {
        "colab": {
          "base_uri": "https://localhost:8080/"
        },
        "id": "I0GZqrFvXcs1",
        "outputId": "d69ab442-aedc-4d68-a653-68908a0839cd"
      },
      "outputs": [
        {
          "name": "stdout",
          "output_type": "stream",
          "text": [
            "F1 Score of toxic                : 0.6281 \n",
            "\n",
            "F1 Score of severe_toxic         : 0.3800 \n",
            "\n",
            "F1 Score of obscene              : 0.6613 \n",
            "\n",
            "F1 Score of threat               : 0.3986 \n",
            "\n",
            "F1 Score of insult               : 0.5931 \n",
            "\n",
            "F1 Score of identity_hate        : 0.4985 \n",
            "\n"
          ]
        }
      ],
      "source": [
        "for i,label in enumerate(labels):\n",
        "  print(\"F1 Score of %-20s : %2.4f \\n\"%(label,f1_score(preds[:,i],y_test[:,i])))"
      ]
    },
    {
      "cell_type": "markdown",
      "metadata": {
        "id": "qTvYL2dfXcs1"
      },
      "source": [
        "#### Confusion Matrix"
      ]
    },
    {
      "cell_type": "code",
      "execution_count": null,
      "metadata": {
        "colab": {
          "base_uri": "https://localhost:8080/"
        },
        "id": "inhQZf6xXcs1",
        "outputId": "e9cae53a-e638-4961-9a2a-fe7d0b5c7eea"
      },
      "outputs": [
        {
          "name": "stdout",
          "output_type": "stream",
          "text": [
            "Confusion Matrix of toxic:\n",
            "[[53222  1166]\n",
            " [ 4666  4924]]\n",
            "Confusion Matrix of severe_toxic:\n",
            "[[63296   207]\n",
            " [  315   160]]\n",
            "Confusion Matrix of obscene:\n",
            "[[58534  1002]\n",
            " [ 1753  2689]]\n",
            "Confusion Matrix of threat:\n",
            "[[63524    98]\n",
            " [  243   113]]\n",
            "Confusion Matrix of insult:\n",
            "[[58506  1120]\n",
            " [ 2045  2307]]\n",
            "Confusion Matrix of identity_hate:\n",
            "[[62743   302]\n",
            " [  523   410]]\n"
          ]
        }
      ],
      "source": [
        "for i,label in enumerate(labels):\n",
        "  print(\"Confusion Matrix of %-s:\"%(label))\n",
        "  print(confusion_matrix(preds[:,i],y_test[:,i]))"
      ]
    },
    {
      "cell_type": "code",
      "execution_count": null,
      "metadata": {
        "colab": {
          "base_uri": "https://localhost:8080/",
          "height": 298
        },
        "id": "2AZXEL2CXcs2",
        "outputId": "4f8434c5-d009-4271-b883-6b036cb0a3e3"
      },
      "outputs": [
        {
          "name": "stdout",
          "output_type": "stream",
          "text": [
            "Toxic Confusion Matrix:\n"
          ]
        },
        {
          "data": {
            "text/plain": [
              "<matplotlib.axes._subplots.AxesSubplot at 0x7fe0d8c10978>"
            ]
          },
          "execution_count": 86,
          "metadata": {
            "tags": []
          },
          "output_type": "execute_result"
        },
        {
          "data": {
            "image/png": "[encoded data removed]",
            "text/plain": [
              "<Figure size 432x288 with 2 Axes>"
            ]
          },
          "metadata": {
            "needs_background": "light",
            "tags": []
          },
          "output_type": "display_data"
        }
      ],
      "source": [
        "print(\"Toxic Confusion Matrix:\")\n",
        "results=confusion_matrix(preds[:,0], y_test[:,0])\n",
        "sns.heatmap(results/np.sum(results), annot=True,fmt='.2%', cmap='Blues') #toxic"
      ]
    },
    {
      "cell_type": "code",
      "execution_count": null,
      "metadata": {
        "colab": {
          "base_uri": "https://localhost:8080/",
          "height": 298
        },
        "id": "NETFEFmTXcs2",
        "outputId": "50e6e07d-60fe-4c11-97a6-85983eb7055e"
      },
      "outputs": [
        {
          "name": "stdout",
          "output_type": "stream",
          "text": [
            "Severe Toxic Confusion Matrix:\n"
          ]
        },
        {
          "data": {
            "text/plain": [
              "<matplotlib.axes._subplots.AxesSubplot at 0x7fe0d8baf320>"
            ]
          },
          "execution_count": 87,
          "metadata": {
            "tags": []
          },
          "output_type": "execute_result"
        },
        {
          "data": {
            "image/png": "[encoded data removed]",
            "text/plain": [
              "<Figure size 432x288 with 2 Axes>"
            ]
          },
          "metadata": {
            "needs_background": "light",
            "tags": []
          },
          "output_type": "display_data"
        }
      ],
      "source": [
        "print(\"Severe Toxic Confusion Matrix:\")\n",
        "results=confusion_matrix(preds[:,1], y_test[:,1])\n",
        "sns.heatmap(results/np.sum(results), annot=True,fmt='.2%', cmap='Blues') #toxic"
      ]
    },
    {
      "cell_type": "code",
      "execution_count": null,
      "metadata": {
        "colab": {
          "base_uri": "https://localhost:8080/",
          "height": 300
        },
        "id": "DCPl479YXcs2",
        "outputId": "399be89a-5480-449e-f0fc-1549b0b3c803"
      },
      "outputs": [
        {
          "name": "stdout",
          "output_type": "stream",
          "text": [
            "Obscene Confusion Matrix:\n"
          ]
        },
        {
          "data": {
            "text/plain": [
              "<matplotlib.axes._subplots.AxesSubplot at 0x7fe0d8b87f98>"
            ]
          },
          "execution_count": 88,
          "metadata": {
            "tags": []
          },
          "output_type": "execute_result"
        },
        {
          "data": {
            "image/png": "[encoded data removed]",
            "text/plain": [
              "<Figure size 432x288 with 2 Axes>"
            ]
          },
          "metadata": {
            "needs_background": "light",
            "tags": []
          },
          "output_type": "display_data"
        }
      ],
      "source": [
        "print(\"Obscene Confusion Matrix:\")\n",
        "results=confusion_matrix(preds[:,2], y_test[:,2])\n",
        "sns.heatmap(results/np.sum(results), annot=True,fmt='.2%', cmap='Blues') #toxic"
      ]
    },
    {
      "cell_type": "code",
      "execution_count": null,
      "metadata": {
        "colab": {
          "base_uri": "https://localhost:8080/",
          "height": 298
        },
        "id": "PsDLCh1DXcs2",
        "outputId": "283c032b-1a4c-4426-aef2-f7ec518b62da"
      },
      "outputs": [
        {
          "name": "stdout",
          "output_type": "stream",
          "text": [
            "Threat Confusion Matrix:\n"
          ]
        },
        {
          "data": {
            "text/plain": [
              "<matplotlib.axes._subplots.AxesSubplot at 0x7fe0d8aa7d30>"
            ]
          },
          "execution_count": 89,
          "metadata": {
            "tags": []
          },
          "output_type": "execute_result"
        },
        {
          "data": {
            "image/png": "[encoded data removed]",
            "text/plain": [
              "<Figure size 432x288 with 2 Axes>"
            ]
          },
          "metadata": {
            "needs_background": "light",
            "tags": []
          },
          "output_type": "display_data"
        }
      ],
      "source": [
        "print(\"Threat Confusion Matrix:\")\n",
        "results=confusion_matrix(preds[:,3], y_test[:,3])\n",
        "sns.heatmap(results/np.sum(results), annot=True,fmt='.2%', cmap='Blues') "
      ]
    },
    {
      "cell_type": "code",
      "execution_count": null,
      "metadata": {
        "colab": {
          "base_uri": "https://localhost:8080/",
          "height": 300
        },
        "id": "re9jRCxTXcs2",
        "outputId": "52ccd53f-5468-4917-f9d7-1453066d23d9"
      },
      "outputs": [
        {
          "name": "stdout",
          "output_type": "stream",
          "text": [
            "Insult Confusion Matrix:\n"
          ]
        },
        {
          "data": {
            "text/plain": [
              "<matplotlib.axes._subplots.AxesSubplot at 0x7fe0d89e25f8>"
            ]
          },
          "execution_count": 90,
          "metadata": {
            "tags": []
          },
          "output_type": "execute_result"
        },
        {
          "data": {
            "image/png": "[encoded data removed]",
            "text/plain": [
              "<Figure size 432x288 with 2 Axes>"
            ]
          },
          "metadata": {
            "needs_background": "light",
            "tags": []
          },
          "output_type": "display_data"
        }
      ],
      "source": [
        "print(\"Insult Confusion Matrix:\")\n",
        "results=confusion_matrix(preds[:,4], y_test[:,4])\n",
        "sns.heatmap(results/np.sum(results), annot=True,fmt='.2%', cmap='Blues') #toxic"
      ]
    },
    {
      "cell_type": "code",
      "execution_count": null,
      "metadata": {
        "colab": {
          "base_uri": "https://localhost:8080/",
          "height": 298
        },
        "id": "xKBzAtAUXcs2",
        "outputId": "fffe3830-e68d-435b-92ab-2bf0e7630b99"
      },
      "outputs": [
        {
          "name": "stdout",
          "output_type": "stream",
          "text": [
            "Identity Hate Confusion Matrix:\n"
          ]
        },
        {
          "data": {
            "text/plain": [
              "<matplotlib.axes._subplots.AxesSubplot at 0x7fe0d89647b8>"
            ]
          },
          "execution_count": 91,
          "metadata": {
            "tags": []
          },
          "output_type": "execute_result"
        },
        {
          "data": {
            "image/png": "[encoded data removed]",
            "text/plain": [
              "<Figure size 432x288 with 2 Axes>"
            ]
          },
          "metadata": {
            "needs_background": "light",
            "tags": []
          },
          "output_type": "display_data"
        }
      ],
      "source": [
        "print(\"Identity Hate Confusion Matrix:\")\n",
        "results=confusion_matrix(preds[:,5], y_test[:,5])\n",
        "sns.heatmap(results/np.sum(results), annot=True,fmt='.2%', cmap='Blues') #toxic"
      ]
    }
  ],
  "metadata": {
    "accelerator": "GPU",
    "colab": {
      "name": "milestone5-2.ipynb",
      "provenance": [],
      "collapsed_sections": [
        "d37bNcqwWx8m",
        "e2kHCdy5O5Ou",
        "qvQwNGaHSQC1",
        "5PF7SO75Xcs1",
        "WWK_MPcqXcs1",
        "qTvYL2dfXcs1"
      ]
    },
    "kernelspec": {
      "display_name": "Python 3",
      "language": "python",
      "name": "python3"
    },
    "language_info": {
      "codemirror_mode": {
        "name": "ipython",
        "version": 3
      },
      "file_extension": ".py",
      "mimetype": "text/x-python",
      "name": "python",
      "nbconvert_exporter": "python",
      "pygments_lexer": "ipython3",
      "version": "3.7.5"
    }
  },
  "nbformat": 4,
  "nbformat_minor": 0
}